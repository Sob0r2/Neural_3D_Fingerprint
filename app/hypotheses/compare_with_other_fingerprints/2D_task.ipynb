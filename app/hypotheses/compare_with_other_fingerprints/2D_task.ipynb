{
 "cells": [
  {
   "cell_type": "code",
   "execution_count": 1,
   "id": "756bf00a",
   "metadata": {},
   "outputs": [],
   "source": [
    "import pandas as pd\n",
    "import numpy as np\n",
    "import json\n",
    "\n",
    "from sklearn.ensemble import RandomForestClassifier\n",
    "from sklearn.decomposition import PCA\n",
    "from sklearn.model_selection import train_test_split\n",
    "from sklearn.metrics import classification_report\n",
    "from sklearn.preprocessing import StandardScaler\n",
    "import torch\n",
    "\n",
    "import utils\n",
    "\n",
    "from rdkit import rdBase\n",
    "rdBase.DisableLog('rdApp.error') \n",
    "\n",
    "from dotenv import load_dotenv\n",
    "load_dotenv()\n",
    "\n",
    "import sys\n",
    "import os\n",
    "parent_dir = os.path.abspath(os.path.join(os.getcwd(), \"../..\"))\n",
    "sys.path.append(parent_dir)\n",
    "\n",
    "from model.model import GNNFingerprint3D"
   ]
  },
  {
   "cell_type": "code",
   "execution_count": 2,
   "id": "b55ffee8",
   "metadata": {},
   "outputs": [],
   "source": [
    "data_path = os.getenv(\"DATA_PATH\")\n",
    "models_path = os.getenv(\"MODELS_PATH\")"
   ]
  },
  {
   "cell_type": "code",
   "execution_count": 3,
   "id": "1b02ab9d",
   "metadata": {},
   "outputs": [],
   "source": [
    "def read_data(path, ki_threshold):\n",
    "    df = pd.read_csv(path, sep=\";\")\n",
    "    df['Activity'] = df['Standard Value'].apply(lambda x: 1 if x < ki_threshold else 0)\n",
    "\n",
    "    df = df[['Smiles', 'Activity']].dropna()\n",
    "\n",
    "    X_train, X_test, y_train, y_test = train_test_split(\n",
    "        df['Smiles'], df['Activity'], test_size=0.2, random_state=42\n",
    "    )\n",
    "\n",
    "    return X_train.reset_index(drop=True), X_test.reset_index(drop=True), y_train.reset_index(drop=True), y_test.reset_index(drop=True)"
   ]
  },
  {
   "cell_type": "code",
   "execution_count": 4,
   "id": "5065caaf",
   "metadata": {},
   "outputs": [],
   "source": [
    "def get_score(X_train, y_train, X_test, y_test):\n",
    "    s_scaler = StandardScaler()\n",
    "    X_train = s_scaler.fit_transform(X_train)\n",
    "    X_test = s_scaler.transform(X_test)\n",
    "\n",
    "    # PCA to 167 dim\n",
    "    pca = PCA(n_components=167)\n",
    "    X_train = pca.fit_transform(X_train)\n",
    "    X_test = pca.transform(X_test)\n",
    "\n",
    "    model = RandomForestClassifier()\n",
    "    model.fit(X_train, y_train)\n",
    "    y_pred = model.predict(X_test)\n",
    "\n",
    "    print(\"Classification Report:\")\n",
    "    print(classification_report(y_test, y_pred))"
   ]
  },
  {
   "cell_type": "code",
   "execution_count": 9,
   "id": "796b7419",
   "metadata": {},
   "outputs": [
    {
     "name": "stderr",
     "output_type": "stream",
     "text": [
      "C:\\Users\\jakub\\AppData\\Local\\Temp\\ipykernel_4044\\3880906177.py:2: FutureWarning: You are using `torch.load` with `weights_only=False` (the current default value), which uses the default pickle module implicitly. It is possible to construct malicious pickle data which will execute arbitrary code during unpickling (See https://github.com/pytorch/pytorch/blob/main/SECURITY.md#untrusted-models for more details). In a future release, the default value for `weights_only` will be flipped to `True`. This limits the functions that could be executed during unpickling. Arbitrary objects will no longer be allowed to be loaded via this mode unless they are explicitly allowlisted by the user via `torch.serialization.add_safe_globals`. We recommend you start setting `weights_only=True` for any use case where you don't have full control of the loaded file. Please open an issue on GitHub for any issues related to this experimental feature.\n",
      "  fingerprint_model.load_state_dict(torch.load(os.path.join(os.getenv(\"MODELS_PATH\"), \"GNN_MUCH_MORE_WEIGHT_3D.pth\")))\n"
     ]
    }
   ],
   "source": [
    "fingerprint_model = GNNFingerprint3D(13, 5)\n",
    "fingerprint_model.load_state_dict(torch.load(os.path.join(os.getenv(\"MODELS_PATH\"), \"GNN_MUCH_MORE_WEIGHT_3D.pth\")))\n",
    "fingerprint_model = fingerprint_model.to(\"cuda\")\n",
    "fingerprint_model.eval()\n",
    "\n",
    "with open(os.path.join(data_path, \"means_and_stds.json\")) as f:\n",
    "    scaler = json.load(f)"
   ]
  },
  {
   "cell_type": "code",
   "execution_count": 10,
   "id": "bd841719",
   "metadata": {},
   "outputs": [
    {
     "name": "stdout",
     "output_type": "stream",
     "text": [
      "============================================\n",
      "CHEMBL1833_5HT2B.csv\n",
      "============================================\n",
      "ECFP\n",
      "Classification Report:\n",
      "              precision    recall  f1-score   support\n",
      "\n",
      "           0       0.87      0.98      0.92       408\n",
      "           1       0.89      0.54      0.68       134\n",
      "\n",
      "    accuracy                           0.87       542\n",
      "   macro avg       0.88      0.76      0.80       542\n",
      "weighted avg       0.87      0.87      0.86       542\n",
      "\n",
      "MACCS\n",
      "Classification Report:\n",
      "              precision    recall  f1-score   support\n",
      "\n",
      "           0       0.86      0.96      0.91       408\n",
      "           1       0.83      0.54      0.65       134\n",
      "\n",
      "    accuracy                           0.86       542\n",
      "   macro avg       0.85      0.75      0.78       542\n",
      "weighted avg       0.85      0.86      0.85       542\n",
      "\n",
      "RDKIT\n",
      "Classification Report:\n",
      "              precision    recall  f1-score   support\n",
      "\n",
      "           0       0.88      0.96      0.92       408\n",
      "           1       0.84      0.59      0.69       134\n",
      "\n",
      "    accuracy                           0.87       542\n",
      "   macro avg       0.86      0.78      0.81       542\n",
      "weighted avg       0.87      0.87      0.86       542\n",
      "\n",
      "RDF\n",
      "Classification Report:\n",
      "              precision    recall  f1-score   support\n",
      "\n",
      "           0       0.81      0.98      0.89       408\n",
      "           1       0.84      0.28      0.42       134\n",
      "\n",
      "    accuracy                           0.81       542\n",
      "   macro avg       0.83      0.63      0.66       542\n",
      "weighted avg       0.82      0.81      0.77       542\n",
      "\n",
      "RANDOM\n",
      "Classification Report:\n",
      "              precision    recall  f1-score   support\n",
      "\n",
      "           0       0.75      1.00      0.86       408\n",
      "           1       0.00      0.00      0.00       134\n",
      "\n",
      "    accuracy                           0.75       542\n",
      "   macro avg       0.38      0.50      0.43       542\n",
      "weighted avg       0.57      0.75      0.65       542\n",
      "\n"
     ]
    },
    {
     "name": "stderr",
     "output_type": "stream",
     "text": [
      "c:\\Users\\jakub\\anaconda3\\envs\\mldd25\\Lib\\site-packages\\sklearn\\metrics\\_classification.py:1565: UndefinedMetricWarning: Precision is ill-defined and being set to 0.0 in labels with no predicted samples. Use `zero_division` parameter to control this behavior.\n",
      "  _warn_prf(average, modifier, f\"{metric.capitalize()} is\", len(result))\n",
      "c:\\Users\\jakub\\anaconda3\\envs\\mldd25\\Lib\\site-packages\\sklearn\\metrics\\_classification.py:1565: UndefinedMetricWarning: Precision is ill-defined and being set to 0.0 in labels with no predicted samples. Use `zero_division` parameter to control this behavior.\n",
      "  _warn_prf(average, modifier, f\"{metric.capitalize()} is\", len(result))\n",
      "c:\\Users\\jakub\\anaconda3\\envs\\mldd25\\Lib\\site-packages\\sklearn\\metrics\\_classification.py:1565: UndefinedMetricWarning: Precision is ill-defined and being set to 0.0 in labels with no predicted samples. Use `zero_division` parameter to control this behavior.\n",
      "  _warn_prf(average, modifier, f\"{metric.capitalize()} is\", len(result))\n"
     ]
    },
    {
     "name": "stdout",
     "output_type": "stream",
     "text": [
      "3D\n",
      "Classification Report:\n",
      "              precision    recall  f1-score   support\n",
      "\n",
      "           0       0.81      0.99      0.89       408\n",
      "           1       0.90      0.28      0.43       134\n",
      "\n",
      "    accuracy                           0.82       542\n",
      "   macro avg       0.86      0.64      0.66       542\n",
      "weighted avg       0.83      0.82      0.78       542\n",
      "\n",
      "============================================\n",
      "CHEMBL214_5HT1A.csv\n",
      "============================================\n"
     ]
    },
    {
     "name": "stderr",
     "output_type": "stream",
     "text": [
      "[13:14:16] UFFTYPER: Warning: hybridization set to SP3 for atom 27\n",
      "[13:14:16] UFFTYPER: Warning: hybridization set to SP3 for atom 27\n",
      "[13:15:54] UFFTYPER: Warning: hybridization set to SP3 for atom 29\n",
      "[13:15:54] UFFTYPER: Warning: hybridization set to SP3 for atom 29\n"
     ]
    },
    {
     "name": "stdout",
     "output_type": "stream",
     "text": [
      "ECFP\n",
      "Classification Report:\n",
      "              precision    recall  f1-score   support\n",
      "\n",
      "           0       0.80      0.76      0.78       549\n",
      "           1       0.81      0.84      0.83       674\n",
      "\n",
      "    accuracy                           0.81      1223\n",
      "   macro avg       0.81      0.80      0.80      1223\n",
      "weighted avg       0.81      0.81      0.81      1223\n",
      "\n",
      "MACCS\n",
      "Classification Report:\n",
      "              precision    recall  f1-score   support\n",
      "\n",
      "           0       0.78      0.75      0.77       549\n",
      "           1       0.80      0.83      0.82       674\n",
      "\n",
      "    accuracy                           0.79      1223\n",
      "   macro avg       0.79      0.79      0.79      1223\n",
      "weighted avg       0.79      0.79      0.79      1223\n",
      "\n",
      "RDKIT\n",
      "Classification Report:\n",
      "              precision    recall  f1-score   support\n",
      "\n",
      "           0       0.81      0.74      0.78       549\n",
      "           1       0.81      0.86      0.83       674\n",
      "\n",
      "    accuracy                           0.81      1223\n",
      "   macro avg       0.81      0.80      0.80      1223\n",
      "weighted avg       0.81      0.81      0.81      1223\n",
      "\n"
     ]
    },
    {
     "name": "stderr",
     "output_type": "stream",
     "text": [
      "[13:20:15] UFFTYPER: Warning: hybridization set to SP3 for atom 27\n",
      "[13:20:15] UFFTYPER: Warning: hybridization set to SP3 for atom 27\n",
      "[13:21:55] UFFTYPER: Warning: hybridization set to SP3 for atom 29\n",
      "[13:21:55] UFFTYPER: Warning: hybridization set to SP3 for atom 29\n"
     ]
    },
    {
     "name": "stdout",
     "output_type": "stream",
     "text": [
      "RDF\n",
      "Classification Report:\n",
      "              precision    recall  f1-score   support\n",
      "\n",
      "           0       0.73      0.53      0.61       549\n",
      "           1       0.69      0.84      0.76       674\n",
      "\n",
      "    accuracy                           0.70      1223\n",
      "   macro avg       0.71      0.69      0.69      1223\n",
      "weighted avg       0.71      0.70      0.69      1223\n",
      "\n",
      "RANDOM\n",
      "Classification Report:\n",
      "              precision    recall  f1-score   support\n",
      "\n",
      "           0       0.44      0.03      0.06       549\n",
      "           1       0.55      0.97      0.70       674\n",
      "\n",
      "    accuracy                           0.55      1223\n",
      "   macro avg       0.49      0.50      0.38      1223\n",
      "weighted avg       0.50      0.55      0.41      1223\n",
      "\n"
     ]
    },
    {
     "name": "stderr",
     "output_type": "stream",
     "text": [
      "[13:29:07] UFFTYPER: Warning: hybridization set to SP3 for atom 27\n",
      "[13:29:07] UFFTYPER: Warning: hybridization set to SP3 for atom 27\n",
      "[13:29:07] UFFTYPER: Warning: hybridization set to SP3 for atom 27\n",
      "[13:34:18] UFFTYPER: Warning: hybridization set to SP3 for atom 29\n",
      "[13:34:18] UFFTYPER: Warning: hybridization set to SP3 for atom 29\n",
      "[13:34:18] UFFTYPER: Warning: hybridization set to SP3 for atom 29\n"
     ]
    },
    {
     "name": "stdout",
     "output_type": "stream",
     "text": [
      "3D\n",
      "Classification Report:\n",
      "              precision    recall  f1-score   support\n",
      "\n",
      "           0       0.69      0.63      0.65       549\n",
      "           1       0.72      0.77      0.74       673\n",
      "\n",
      "    accuracy                           0.70      1222\n",
      "   macro avg       0.70      0.70      0.70      1222\n",
      "weighted avg       0.70      0.70      0.70      1222\n",
      "\n",
      "============================================\n",
      "CHEMBL224_5HT2A.csv\n",
      "============================================\n"
     ]
    },
    {
     "ename": "KeyboardInterrupt",
     "evalue": "",
     "output_type": "error",
     "traceback": [
      "\u001b[31m---------------------------------------------------------------------------\u001b[39m",
      "\u001b[31mKeyboardInterrupt\u001b[39m                         Traceback (most recent call last)",
      "\u001b[36mCell\u001b[39m\u001b[36m \u001b[39m\u001b[32mIn[10]\u001b[39m\u001b[32m, line 11\u001b[39m\n\u001b[32m      8\u001b[39m data = os.path.join(folder, db)\n\u001b[32m      9\u001b[39m X_train, X_test, y_train, y_test = read_data(data, \u001b[32m100\u001b[39m)\n\u001b[32m---> \u001b[39m\u001b[32m11\u001b[39m train_filtered = [(s, y) \u001b[38;5;28;01mfor\u001b[39;00m s, y \u001b[38;5;129;01min\u001b[39;00m \u001b[38;5;28mzip\u001b[39m(X_train, y_train) \u001b[38;5;28;01mif\u001b[39;00m \u001b[38;5;28;43mgetattr\u001b[39;49m\u001b[43m(\u001b[49m\u001b[43mutils\u001b[49m\u001b[43m,\u001b[49m\u001b[43m \u001b[49m\u001b[33;43m\"\u001b[39;49m\u001b[33;43mis_valid_smiles\u001b[39;49m\u001b[33;43m\"\u001b[39;49m\u001b[43m)\u001b[49m\u001b[43m(\u001b[49m\u001b[43ms\u001b[49m\u001b[43m)\u001b[49m]\n\u001b[32m     12\u001b[39m test_filtered = [(s, y) \u001b[38;5;28;01mfor\u001b[39;00m s, y \u001b[38;5;129;01min\u001b[39;00m \u001b[38;5;28mzip\u001b[39m(X_test, y_test) \u001b[38;5;28;01mif\u001b[39;00m \u001b[38;5;28mgetattr\u001b[39m(utils, \u001b[33m\"\u001b[39m\u001b[33mis_valid_smiles\u001b[39m\u001b[33m\"\u001b[39m)(s)]\n\u001b[32m     13\u001b[39m X_train, y_train = \u001b[38;5;28mzip\u001b[39m(*train_filtered) \u001b[38;5;28;01mif\u001b[39;00m train_filtered \u001b[38;5;28;01melse\u001b[39;00m ([], [])\n",
      "\u001b[36mFile \u001b[39m\u001b[32mc:\\Users\\jakub\\PycharmProjects\\mldd_project\\app\\hypotheses\\compare_with_other_fingerprints\\utils.py:36\u001b[39m, in \u001b[36mis_valid_smiles\u001b[39m\u001b[34m(smiles)\u001b[39m\n\u001b[32m     34\u001b[39m     \u001b[38;5;28;01mreturn\u001b[39;00m \u001b[38;5;28;01mFalse\u001b[39;00m\n\u001b[32m     35\u001b[39m mol = Chem.AddHs(mol)\n\u001b[32m---> \u001b[39m\u001b[32m36\u001b[39m \u001b[38;5;28;01mreturn\u001b[39;00m \u001b[43mAllChem\u001b[49m\u001b[43m.\u001b[49m\u001b[43mEmbedMolecule\u001b[49m\u001b[43m(\u001b[49m\u001b[43mmol\u001b[49m\u001b[43m,\u001b[49m\u001b[43m \u001b[49m\u001b[43mrandomSeed\u001b[49m\u001b[43m=\u001b[49m\u001b[32;43m0\u001b[39;49m\u001b[43m)\u001b[49m == \u001b[32m0\u001b[39m\n",
      "\u001b[31mKeyboardInterrupt\u001b[39m: "
     ]
    }
   ],
   "source": [
    "folder = os.path.join(data_path, \"CHEMBL\")\n",
    "\n",
    "for db in os.listdir(folder):\n",
    "    print(\"============================================\")\n",
    "    print(db)\n",
    "    print(\"============================================\")\n",
    "    \n",
    "    data = os.path.join(folder, db)\n",
    "    X_train, X_test, y_train, y_test = read_data(data, 100)\n",
    "\n",
    "    train_filtered = [(s, y) for s, y in zip(X_train, y_train) if getattr(utils, \"is_valid_smiles\")(s)]\n",
    "    test_filtered = [(s, y) for s, y in zip(X_test, y_test) if getattr(utils, \"is_valid_smiles\")(s)]\n",
    "    X_train, y_train = zip(*train_filtered) if train_filtered else ([], [])\n",
    "    X_test, y_test = zip(*test_filtered) if test_filtered else ([], [])\n",
    "\n",
    "    X_train, y_train = list(X_train), list(y_train)\n",
    "    X_test, y_test = list(X_test), list(y_test)\n",
    "\n",
    "    for fingerprint in (\"ecfp\", \"maccs\", \"rdkit\", \"rdf\", \"random\", \"3D\"):\n",
    "        func_name = \"smiles_to_\" + fingerprint\n",
    "\n",
    "        if fingerprint == \"3D\":\n",
    "            X_train_prep = np.array([getattr(utils, func_name)(smiles, fingerprint_model, scaler, False).detach().cpu() for smiles in X_train])\n",
    "            X_test_prep = np.array([getattr(utils, func_name)(smiles, fingerprint_model, scaler, False).detach().cpu() for smiles in X_test])\n",
    "\n",
    "            rows_all_nan_train = np.isnan(X_train_prep).all(axis=1)\n",
    "            nan_indices_train = np.where(rows_all_nan_train)[0]\n",
    "\n",
    "            rows_all_nan_test = np.isnan(X_test_prep).all(axis=1)\n",
    "            nan_indices_test = np.where(rows_all_nan_test)[0]\n",
    "\n",
    "            X_train_prep = np.delete(X_train_prep, nan_indices_train, axis=0)\n",
    "            y_train = np.delete(y_train, nan_indices_train, axis=0)\n",
    "            X_test_prep = np.delete(X_test_prep, nan_indices_test, axis=0)\n",
    "            y_test = np.delete(y_test, nan_indices_test, axis=0)\n",
    "        else:\n",
    "            X_train_prep = np.array([getattr(utils, func_name)(smiles) for smiles in X_train])\n",
    "            X_test_prep = np.array([getattr(utils, func_name)(smiles) for smiles in X_test])\n",
    "\n",
    "        print(fingerprint.upper())\n",
    "        get_score(X_train_prep, y_train, X_test_prep, y_test)"
   ]
  }
 ],
 "metadata": {
  "kernelspec": {
   "display_name": "mldd25",
   "language": "python",
   "name": "python3"
  },
  "language_info": {
   "codemirror_mode": {
    "name": "ipython",
    "version": 3
   },
   "file_extension": ".py",
   "mimetype": "text/x-python",
   "name": "python",
   "nbconvert_exporter": "python",
   "pygments_lexer": "ipython3",
   "version": "3.12.9"
  }
 },
 "nbformat": 4,
 "nbformat_minor": 5
}
