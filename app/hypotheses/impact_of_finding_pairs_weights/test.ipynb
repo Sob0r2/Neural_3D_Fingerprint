{
 "cells": [
  {
   "cell_type": "code",
   "execution_count": 2,
   "id": "0689b42e",
   "metadata": {},
   "outputs": [],
   "source": [
    "import pandas as pd\n",
    "import numpy as np\n",
    "import json\n",
    "import random\n",
    "from concurrent.futures import ThreadPoolExecutor\n",
    "from functools import partial\n",
    "\n",
    "from sklearn.ensemble import RandomForestClassifier, RandomForestRegressor\n",
    "from sklearn.decomposition import PCA\n",
    "from sklearn.model_selection import train_test_split\n",
    "from sklearn.metrics import classification_report, mean_absolute_error, mean_squared_error, r2_score\n",
    "from sklearn.preprocessing import StandardScaler\n",
    "import torch\n",
    "\n",
    "from rdkit import rdBase\n",
    "rdBase.DisableLog('rdApp.error') \n",
    "\n",
    "from dotenv import load_dotenv\n",
    "load_dotenv()\n",
    "\n",
    "import sys\n",
    "import os\n",
    "parent_dir = os.path.abspath(os.path.join(os.getcwd(), \"../..\"))\n",
    "sys.path.append(parent_dir)\n",
    "\n",
    "from model.model import GNNFingerprint3D\n",
    "from hypotheses.compare_with_other_fingerprints.utils import smiles_to_3D"
   ]
  },
  {
   "cell_type": "code",
   "execution_count": 3,
   "id": "94a5bdd7",
   "metadata": {},
   "outputs": [],
   "source": [
    "data_path = os.getenv(\"DATA_PATH\")\n",
    "models_path = os.getenv(\"MODELS_PATH\")\n",
    "\n",
    "columns = [\"mu\", \"zpve\", \"energy_U0\", \"rcA\", \"rcB\", \"rcC\", \"Cv\", \"alpha\"]"
   ]
  },
  {
   "cell_type": "code",
   "execution_count": 6,
   "id": "cb87d447",
   "metadata": {},
   "outputs": [
    {
     "name": "stderr",
     "output_type": "stream",
     "text": [
      "C:\\Users\\jakub\\AppData\\Local\\Temp\\ipykernel_13196\\197603800.py:2: FutureWarning: You are using `torch.load` with `weights_only=False` (the current default value), which uses the default pickle module implicitly. It is possible to construct malicious pickle data which will execute arbitrary code during unpickling (See https://github.com/pytorch/pytorch/blob/main/SECURITY.md#untrusted-models for more details). In a future release, the default value for `weights_only` will be flipped to `True`. This limits the functions that could be executed during unpickling. Arbitrary objects will no longer be allowed to be loaded via this mode unless they are explicitly allowlisted by the user via `torch.serialization.add_safe_globals`. We recommend you start setting `weights_only=True` for any use case where you don't have full control of the loaded file. Please open an issue on GitHub for any issues related to this experimental feature.\n",
      "  small_3D_impact_model.load_state_dict(torch.load(os.path.join(models_path, \"GNN_MORE_WEIGHT_3D.pth\")))\n",
      "C:\\Users\\jakub\\AppData\\Local\\Temp\\ipykernel_13196\\197603800.py:7: FutureWarning: You are using `torch.load` with `weights_only=False` (the current default value), which uses the default pickle module implicitly. It is possible to construct malicious pickle data which will execute arbitrary code during unpickling (See https://github.com/pytorch/pytorch/blob/main/SECURITY.md#untrusted-models for more details). In a future release, the default value for `weights_only` will be flipped to `True`. This limits the functions that could be executed during unpickling. Arbitrary objects will no longer be allowed to be loaded via this mode unless they are explicitly allowlisted by the user via `torch.serialization.add_safe_globals`. We recommend you start setting `weights_only=True` for any use case where you don't have full control of the loaded file. Please open an issue on GitHub for any issues related to this experimental feature.\n",
      "  huge_3D_impact_model.load_state_dict(torch.load(os.path.join(models_path, \"GNN_MUCH_MORE_WEIGHT_3D.pth\")))\n"
     ]
    }
   ],
   "source": [
    "small_3D_impact_model = GNNFingerprint3D(13, 5)\n",
    "small_3D_impact_model.load_state_dict(torch.load(os.path.join(models_path, \"GNN_MORE_WEIGHT_3D.pth\")))\n",
    "small_3D_impact_model = small_3D_impact_model.to(\"cuda\")\n",
    "small_3D_impact_model.eval()\n",
    "\n",
    "huge_3D_impact_model = GNNFingerprint3D(13, 5)\n",
    "huge_3D_impact_model.load_state_dict(torch.load(os.path.join(models_path, \"GNN_MUCH_MORE_WEIGHT_3D.pth\")))\n",
    "huge_3D_impact_model = huge_3D_impact_model.to(\"cuda\")\n",
    "huge_3D_impact_model.eval()\n",
    "\n",
    "with open(os.path.join(data_path, \"means_and_stds.json\")) as f:\n",
    "    scaler = json.load(f)"
   ]
  },
  {
   "cell_type": "markdown",
   "id": "369f4e48",
   "metadata": {},
   "source": [
    "### 2D Task"
   ]
  },
  {
   "cell_type": "code",
   "execution_count": 4,
   "id": "2cdb22f2",
   "metadata": {},
   "outputs": [],
   "source": [
    "def read_data(path, ki_threshold):\n",
    "    df = pd.read_csv(path, sep=\";\")\n",
    "    df['Activity'] = df['Standard Value'].apply(lambda x: 1 if x < ki_threshold else 0)\n",
    "\n",
    "    df = df[['Smiles', 'Activity']].dropna()\n",
    "\n",
    "    X_train, X_test, y_train, y_test = train_test_split(\n",
    "        df['Smiles'], df['Activity'], test_size=0.2, random_state=42\n",
    "    )\n",
    "\n",
    "    return X_train.reset_index(drop=True), X_test.reset_index(drop=True), y_train.reset_index(drop=True), y_test.reset_index(drop=True)"
   ]
  },
  {
   "cell_type": "code",
   "execution_count": 5,
   "id": "1142d418",
   "metadata": {},
   "outputs": [],
   "source": [
    "def get_score(X_train, y_train, X_test, y_test, task = \"c\"):\n",
    "    s_scaler = StandardScaler()\n",
    "    X_train = s_scaler.fit_transform(X_train)\n",
    "    X_test = s_scaler.transform(X_test)\n",
    "\n",
    "    # PCA to 167 dim\n",
    "    pca = PCA(n_components=167)\n",
    "    X_train = pca.fit_transform(X_train)\n",
    "    X_test = pca.transform(X_test)\n",
    "\n",
    "    if task == \"c\":\n",
    "        model = RandomForestClassifier()\n",
    "        model.fit(X_train, y_train)\n",
    "        y_pred = model.predict(X_test)\n",
    "\n",
    "        print(\"Classification Report:\")\n",
    "        print(classification_report(y_test, y_pred))\n",
    "\n",
    "    else:\n",
    "        model = RandomForestRegressor()\n",
    "        model.fit(X_train, y_train)\n",
    "        y_pred = model.predict(X_test)\n",
    "        \n",
    "        print(\"Regression Metrics:\")\n",
    "        print(f\"MAE:  {mean_absolute_error(y_test, y_pred):.4f}\")\n",
    "        print(f\"RMSE: {np.sqrt(mean_squared_error(y_test, y_pred)):.4f}\")\n",
    "        print(f\"R²:   {r2_score(y_test, y_pred):.4f}\")"
   ]
  },
  {
   "cell_type": "code",
   "execution_count": null,
   "id": "9216e467",
   "metadata": {},
   "outputs": [],
   "source": [
    "folder = os.path.join(data_path, \"CHEMBL\")\n",
    "device = \"cuda\" if torch.cuda.is_available() else \"cpu\"\n",
    "\n",
    "for db in os.listdir(folder):\n",
    "    print(\"============================================\")\n",
    "    print(db)\n",
    "    print(\"============================================\")\n",
    "\n",
    "    data = os.path.join(folder, db)\n",
    "    X_train, X_test, y_train, y_test = read_data(data, 100)\n",
    "\n",
    "    X_train, y_train = list(X_train), list(y_train)\n",
    "    X_test, y_test = list(X_test), list(y_test)\n",
    "\n",
    "    ### SMALL 3D IMPACT\n",
    "    print(\"****************\")\n",
    "    print(\"SMALL 3D IMPACT\")\n",
    "    print(\"****************\")\n",
    "    X_train_small_3D = np.array([smiles_to_3D(smiles, small_3D_impact_model, scaler, False).detach().cpu() for smiles in X_train])\n",
    "    X_test_small_3D = np.array([smiles_to_3D(smiles, small_3D_impact_model, scaler, False).detach().cpu() for smiles in X_test])\n",
    "\n",
    "    rows_all_nan_train = np.isnan(X_train_small_3D).all(axis=1)\n",
    "    nan_indices_train = np.where(rows_all_nan_train)[0]\n",
    "\n",
    "    rows_all_nan_test = np.isnan(X_test_small_3D).all(axis=1)\n",
    "    nan_indices_test = np.where(rows_all_nan_test)[0]\n",
    "\n",
    "    X_train_small_3D = np.delete(X_train_small_3D, nan_indices_train, axis=0)\n",
    "    y_train_small_3D = np.delete(y_train, nan_indices_train, axis=0)\n",
    "    X_test_small_3D = np.delete(X_test_small_3D, nan_indices_test, axis=0)\n",
    "    y_test_small_3D = np.delete(y_test, nan_indices_test, axis=0)\n",
    "\n",
    "    get_score(X_train_small_3D, y_train_small_3D, X_test_small_3D, y_test_small_3D)\n",
    "\n",
    "    ### HUGE 3D IMPACT\n",
    "    print(\"****************\")\n",
    "    print(\"HUGE 3D IMPACT\")\n",
    "    print(\"*****************\")\n",
    "\n",
    "    X_train_huge_3D = np.array([smiles_to_3D(smiles, huge_3D_impact_model, scaler, False).detach().cpu() for smiles in X_train])\n",
    "    X_test_huge_3D = np.array([smiles_to_3D(smiles, huge_3D_impact_model, scaler, False).detach().cpu() for smiles in X_test])\n",
    "\n",
    "    rows_all_nan_train = np.isnan(X_train_huge_3D).all(axis=1)\n",
    "    nan_indices_train = np.where(rows_all_nan_train)[0]\n",
    "\n",
    "    rows_all_nan_test = np.isnan(X_test_huge_3D).all(axis=1)\n",
    "    nan_indices_test = np.where(rows_all_nan_test)[0]\n",
    "\n",
    "    X_train_huge_3D = np.delete(X_train_huge_3D, nan_indices_train, axis=0)\n",
    "    y_train_huge_3D = np.delete(y_train, nan_indices_train, axis=0)\n",
    "    X_test_huge_3D = np.delete(X_test_huge_3D, nan_indices_test, axis=0)\n",
    "    y_test_huge_3D = np.delete(y_test, nan_indices_test, axis=0)\n",
    "\n",
    "    get_score(X_train_huge_3D, y_train_huge_3D, X_test_huge_3D, y_test_huge_3D)\n"
   ]
  }
 ],
 "metadata": {
  "kernelspec": {
   "display_name": "mldd25",
   "language": "python",
   "name": "python3"
  },
  "language_info": {
   "codemirror_mode": {
    "name": "ipython",
    "version": 3
   },
   "file_extension": ".py",
   "mimetype": "text/x-python",
   "name": "python",
   "nbconvert_exporter": "python",
   "pygments_lexer": "ipython3",
   "version": "3.12.9"
  }
 },
 "nbformat": 4,
 "nbformat_minor": 5
}
