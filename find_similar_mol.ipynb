{
 "cells": [
  {
   "cell_type": "code",
   "execution_count": null,
   "metadata": {},
   "outputs": [],
   "source": [
    "import pandas as pd\n",
    "import os\n",
    "import faiss\n",
    "import json\n",
    "import copy\n",
    "import numpy as np"
   ]
  },
  {
   "cell_type": "code",
   "execution_count": null,
   "metadata": {},
   "outputs": [],
   "source": [
    "folder_path = \"data/qm9_data\"\n",
    "series_list = []\n",
    "for i, file_path in enumerate(os.listdir(folder_path)):\n",
    "    file = os.path.join(folder_path, file_path, \"descriptor.json\")\n",
    "    with open(file, \"r\") as f:\n",
    "        data = json.load(f)\n",
    "    series = pd.Series(data)\n",
    "    series_list.append(series)\n",
    "    if i % 1000 == 0: print(i)\n",
    "df = pd.DataFrame(series_list)"
   ]
  },
  {
   "cell_type": "code",
   "execution_count": null,
   "metadata": {},
   "outputs": [],
   "source": [
    "df.to_parquet(\"data/descriptors.parquet\")"
   ]
  },
  {
   "cell_type": "code",
   "execution_count": null,
   "metadata": {},
   "outputs": [],
   "source": [
    "df = pd.read_parquet(\"data/descriptors.parquet\")"
   ]
  },
  {
   "cell_type": "code",
   "execution_count": null,
   "metadata": {},
   "outputs": [],
   "source": [
    "# SCALE DATA\n",
    "for col in df.drop(\"SMILES\", axis=1).columns:\n",
    "    df[col] = (df[col] - df[col].mean()) / df[col].std()"
   ]
  },
  {
   "cell_type": "code",
   "execution_count": null,
   "metadata": {},
   "outputs": [],
   "source": [
    "features = copy.deepcopy(df).drop(\"SMILES\", axis=1)\n",
    "\n",
    "features[\"MolWt\"] *= 8\n",
    "features[\"LogP\"] *= 4\n",
    "features[\"HOMO\"] *= 2\n",
    "features[\"LUMO\"] *= 2\n",
    "features[\"HDonors\"] *= 2\n",
    "features[\"HAcceptors\"] *= 2"
   ]
  },
  {
   "cell_type": "code",
   "execution_count": null,
   "metadata": {},
   "outputs": [],
   "source": [
    "index = faiss.IndexFlatL2(len(features.columns))  \n",
    "index.add(features)\n",
    "\n",
    "distances, indices = index.search(features, 1000)"
   ]
  },
  {
   "cell_type": "code",
   "execution_count": null,
   "metadata": {},
   "outputs": [],
   "source": [
    "np.save(os.path.join(\"data\", \"indices\"), indices)\n",
    "np.save(os.path.join(\"data\", \"distances\"), distances)"
   ]
  }
 ],
 "metadata": {
  "kernelspec": {
   "display_name": "mldd25",
   "language": "python",
   "name": "python3"
  },
  "language_info": {
   "codemirror_mode": {
    "name": "ipython",
    "version": 3
   },
   "file_extension": ".py",
   "mimetype": "text/x-python",
   "name": "python",
   "nbconvert_exporter": "python",
   "pygments_lexer": "ipython3",
   "version": "3.12.9"
  }
 },
 "nbformat": 4,
 "nbformat_minor": 2
}
