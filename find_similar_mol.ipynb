{
 "cells": [
  {
   "cell_type": "code",
   "execution_count": 2,
   "metadata": {},
   "outputs": [],
   "source": [
    "import pandas as pd\n",
    "import os\n",
    "import faiss\n",
    "import json\n",
    "import copy\n",
    "import numpy as np\n",
    "import pickle\n",
    "\n",
    "from rdkit import Chem\n",
    "from rdkit.Chem import AllChem, rdShapeHelpers, DataStructs\n",
    "\n",
    "import torch\n",
    "from torch_geometric.data import Data"
   ]
  },
  {
   "cell_type": "code",
   "execution_count": null,
   "metadata": {},
   "outputs": [],
   "source": [
    "folder_path = \"data/qm9_data\"\n",
    "series_list = []\n",
    "for i, file_path in enumerate(os.listdir(folder_path)):\n",
    "    file = os.path.join(folder_path, file_path, \"descriptor.json\")\n",
    "    with open(file, \"r\") as f:\n",
    "        data = json.load(f)\n",
    "    series = pd.Series(data)\n",
    "    series_list.append(series)\n",
    "    if i % 1000 == 0: print(i)\n",
    "df = pd.DataFrame(series_list)"
   ]
  },
  {
   "cell_type": "code",
   "execution_count": null,
   "metadata": {},
   "outputs": [],
   "source": [
    "df.to_parquet(\"data/descriptors.parquet\")"
   ]
  },
  {
   "cell_type": "code",
   "execution_count": null,
   "metadata": {},
   "outputs": [],
   "source": [
    "df = pd.read_parquet(\"data/descriptors.parquet\")"
   ]
  },
  {
   "cell_type": "code",
   "execution_count": null,
   "metadata": {},
   "outputs": [],
   "source": [
    "# SCALE DATA\n",
    "for col in df.drop([\"SMILES\", \"file_path\"], axis=1).columns:\n",
    "    df[col] = (df[col] - df[col].mean()) / df[col].std()"
   ]
  },
  {
   "cell_type": "code",
   "execution_count": null,
   "metadata": {},
   "outputs": [],
   "source": [
    "features = copy.deepcopy(df).drop([\"SMILES\", \"file_path\"], axis=1)\n",
    "\n",
    "features[\"MolWt\"] *= 8\n",
    "features[\"LogP\"] *= 4\n",
    "features[\"HOMO\"] *= 2\n",
    "features[\"LUMO\"] *= 2\n",
    "features[\"HDonors\"] *= 2\n",
    "features[\"HAcceptors\"] *= 2"
   ]
  },
  {
   "cell_type": "code",
   "execution_count": null,
   "metadata": {},
   "outputs": [],
   "source": [
    "index = faiss.IndexFlatL2(len(features.columns))  \n",
    "index.add(features)\n",
    "\n",
    "distances, indices = index.search(features, 100)\n",
    "\n",
    "max_val = np.percentile(distances, 99)\n",
    "distances = np.clip((1 - (distances / max_val)), 0, 1)"
   ]
  },
  {
   "cell_type": "code",
   "execution_count": null,
   "metadata": {},
   "outputs": [],
   "source": [
    "np.save(os.path.join(\"data\", \"indices\"), indices)\n",
    "np.save(os.path.join(\"data\", \"distances\"), distances)"
   ]
  },
  {
   "cell_type": "code",
   "execution_count": null,
   "metadata": {},
   "outputs": [],
   "source": [
    "distances = np.load(os.path.join(\"data\", \"distances.npy\"))\n",
    "indices = np.load(os.path.join(\"data\", \"indices.npy\"))"
   ]
  },
  {
   "cell_type": "code",
   "execution_count": null,
   "metadata": {},
   "outputs": [],
   "source": [
    "def calculate_similarity(mol1, mol2):\n",
    "    \n",
    "    # TANIMOTO SIMILARITY\n",
    "    fp1 = AllChem.GetMorganFingerprintAsBitVect(mol1, radius=2, nBits=2048)\n",
    "    fp2 = AllChem.GetMorganFingerprintAsBitVect(mol2, radius=2, nBits=2048)\n",
    "    similarity_2D = DataStructs.TanimotoSimilarity(fp1, fp2)\n",
    "\n",
    "    # 3D SIMILARITY\n",
    "    similarity_3D = rdShapeHelpers.ShapeTanimotoDist(mol1, mol2)\n",
    "\n",
    "    return similarity_2D, similarity_3D"
   ]
  },
  {
   "cell_type": "code",
   "execution_count": null,
   "metadata": {},
   "outputs": [],
   "source": [
    "def find_most_similar_mol(df, distances, indices):\n",
    "    mol1 = Chem.MolFromMolFile(df.iloc[indices[0]][\"file_path\"], removeHs=False)\n",
    "\n",
    "    scores_2d = []\n",
    "    scores_3d = []\n",
    "    for idx in indices[1:]:\n",
    "        mol2 = Chem.MolFromMolFile(df.iloc[idx][\"file_path\"], removeHs=False)\n",
    "        score_2d, score_3d = calculate_similarity(mol1, mol2)\n",
    "        scores_2d.append(score_2d)\n",
    "        scores_3d.append(score_3d)\n",
    "\n",
    "    scores_2d = np.array(scores_2d)\n",
    "    scores_3d = np.array(scores_3d)\n",
    "    distances = np.array(distances[1:])\n",
    "\n",
    "    distances = distances / (distances.max() + 1e-10)\n",
    "    scores_2d = scores_2d / (scores_2d.max() + 1e-10)\n",
    "    scores_3d = scores_3d / (scores_3d.max() + 1e-10)\n",
    "\n",
    "    scores = scores_2d + scores_3d + distances\n",
    "\n",
    "    sorted_indices = np.argsort(scores)[::-1][:5]\n",
    "    smiles_list = [df.iloc[indices[i + 1]][\"file_path\"] for i in sorted_indices]\n",
    "\n",
    "    return smiles_list"
   ]
  },
  {
   "cell_type": "code",
   "execution_count": null,
   "metadata": {},
   "outputs": [],
   "source": [
    "final_dict = {}\n",
    "\n",
    "for i in range(len(indices)):\n",
    "    if i % 100 == 0:\n",
    "        print(i)\n",
    "    idx = indices[i]\n",
    "    dist = distances[i]\n",
    "    res = find_most_similar_mol(df, dist, idx)\n",
    "\n",
    "    file_path = df.iloc[idx[0]][\"file_path\"]\n",
    "    final_dict[file_path] = res\n",
    "\n",
    "print(final_dict)"
   ]
  },
  {
   "cell_type": "code",
   "execution_count": null,
   "metadata": {},
   "outputs": [],
   "source": [
    "with open('data/similar_mol.json', \"w\") as f:\n",
    "    json.dump(final_dict, f)"
   ]
  },
  {
   "cell_type": "code",
   "execution_count": null,
   "metadata": {},
   "outputs": [],
   "source": [
    "with open(\"data/similar_mol.json\", \"r\") as f:\n",
    "    similar_mol_dict = json.load(f)"
   ]
  },
  {
   "cell_type": "code",
   "execution_count": null,
   "metadata": {},
   "outputs": [],
   "source": [
    "def read_graph(mol_path):\n",
    "    node_df = pd.read_parquet(os.path.join(mol_path, \"nodes.parquet\"))\n",
    "    edge_matrix = np.load(os.path.join(mol_path, \"edges.npy\"), allow_pickle=True)\n",
    "\n",
    "    x = torch.tensor(node_df.to_numpy(), dtype=torch.float).cuda()\n",
    "\n",
    "    edge_index = []\n",
    "    edge_attr = []\n",
    "    for edge in edge_matrix:\n",
    "        edge_index.append([edge[0], edge[1]])\n",
    "        edge_index.append([edge[1], edge[0]])\n",
    "\n",
    "        edge_attr.append(edge[2:])\n",
    "        edge_attr.append(edge[2:])\n",
    "        \n",
    "    edge_index = torch.tensor(edge_index, dtype=torch.long).cuda()\n",
    "    edge_attr = torch.tensor(edge_attr, dtype=torch.float).cuda()\n",
    "\n",
    "    return Data(x=x, edge_index=edge_index, edge_attr=edge_attr)"
   ]
  },
  {
   "cell_type": "code",
   "execution_count": null,
   "metadata": {},
   "outputs": [],
   "source": [
    "final_df_dict = {}\n",
    "for i, key in enumerate(similar_mol_dict):\n",
    "    final_df_dict[key] = read_graph(key.replace(\"molecule.mol\", \"\"))\n",
    "    print(i)\n",
    "    \n",
    "with open(\"data\\\\final_df_dict.pkl\", \"wb\") as f:\n",
    "    pickle.dump(final_df_dict, f)"
   ]
  }
 ],
 "metadata": {
  "kernelspec": {
   "display_name": "mldd25",
   "language": "python",
   "name": "python3"
  },
  "language_info": {
   "codemirror_mode": {
    "name": "ipython",
    "version": 3
   },
   "file_extension": ".py",
   "mimetype": "text/x-python",
   "name": "python",
   "nbconvert_exporter": "python",
   "pygments_lexer": "ipython3",
   "version": "3.12.9"
  }
 },
 "nbformat": 4,
 "nbformat_minor": 2
}
